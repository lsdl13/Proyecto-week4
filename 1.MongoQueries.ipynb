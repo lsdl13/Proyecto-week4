{
 "cells": [
  {
   "cell_type": "code",
   "execution_count": 15,
   "id": "d230e3e1",
   "metadata": {},
   "outputs": [],
   "source": [
    "from pymongo import MongoClient\n",
    "import pandas as pd\n",
    "import src.apis as sr "
   ]
  },
  {
   "cell_type": "code",
   "execution_count": 16,
   "id": "5d40dba5",
   "metadata": {},
   "outputs": [],
   "source": [
    "client = MongoClient(\"localhost:27017\")\n",
    "db = client.get_database(\"prueba\")\n",
    "c= db.get_collection(\"companies\")"
   ]
  },
  {
   "cell_type": "markdown",
   "id": "23417cdd",
   "metadata": {},
   "source": [
    "One of the objectives of this project is to choose three cities in which there are companies dedicated to the technology sector and which are small or medium-sized companies like ours. The first filter we will apply then will be the \"web\" category in order to stay with companies that are dedicated to the \"Tech\" sector. Next, we will choose some cosmopolitan European cities (that facilitate the travels of Account Managers) and of different sizes (1.5M Munich, 5M Barcelona, 10M Paris) to make a sample according to the size of each city."
   ]
  },
  {
   "cell_type": "markdown",
   "id": "59386c80",
   "metadata": {},
   "source": [
    "## Filtros en Mongo"
   ]
  },
  {
   "cell_type": "markdown",
   "id": "65a6b6fe",
   "metadata": {},
   "source": [
    "### Paris"
   ]
  },
  {
   "cell_type": "code",
   "execution_count": 3,
   "id": "bec0e501",
   "metadata": {},
   "outputs": [],
   "source": [
    "proj = {\"_id\": 0, \"name\": 1,\"offices.country_code\":1, \"offices.city\":1, \"number_of_employees\": 1, \"offices.latitude\":1, \"offices.longitude\":1}\n",
    "fra = list(c.find({\"$and\": [{\"category_code\": \"web\"}, {\"offices.country_code\": \"FRA\"}, {\"number_of_employees\": {\"$lt\":100}},\n",
    "                      {\"founded_year\": {\"$gt\": 2000}}]}, proj))\n",
    "df = pd.DataFrame(fra)\n",
    "df[\"offices\"] = df.offices.astype(str)\n",
    "df = df[df[\"offices\"].str.contains('Paris')]\n"
   ]
  },
  {
   "cell_type": "markdown",
   "id": "bd84020c",
   "metadata": {},
   "source": [
    "### Barcelona"
   ]
  },
  {
   "cell_type": "code",
   "execution_count": 4,
   "id": "35b5e839",
   "metadata": {
    "scrolled": true
   },
   "outputs": [],
   "source": [
    "spa= list(c.find({\"$and\": [{\"category_code\": \"web\"}, {\"offices.country_code\": \"ESP\"}, {\"number_of_employees\": {\"$lt\":100}},\n",
    "                      {\"founded_year\": {\"$gt\": 2000}}]}, proj))\n",
    "df2 = pd.DataFrame(spa)\n",
    "df2[\"offices\"] = df2.offices.astype(str)\n",
    "df2 = df2[df2[\"offices\"].str.contains('Barcelona')]"
   ]
  },
  {
   "cell_type": "markdown",
   "id": "3a331188",
   "metadata": {},
   "source": [
    "### Munich"
   ]
  },
  {
   "cell_type": "code",
   "execution_count": 17,
   "id": "87319d30",
   "metadata": {
    "scrolled": false
   },
   "outputs": [
    {
     "data": {
      "text/html": [
       "<div>\n",
       "<style scoped>\n",
       "    .dataframe tbody tr th:only-of-type {\n",
       "        vertical-align: middle;\n",
       "    }\n",
       "\n",
       "    .dataframe tbody tr th {\n",
       "        vertical-align: top;\n",
       "    }\n",
       "\n",
       "    .dataframe thead th {\n",
       "        text-align: right;\n",
       "    }\n",
       "</style>\n",
       "<table border=\"1\" class=\"dataframe\">\n",
       "  <thead>\n",
       "    <tr style=\"text-align: right;\">\n",
       "      <th></th>\n",
       "      <th>name</th>\n",
       "      <th>number_of_employees</th>\n",
       "      <th>offices</th>\n",
       "    </tr>\n",
       "  </thead>\n",
       "  <tbody>\n",
       "    <tr>\n",
       "      <th>3</th>\n",
       "      <td>amiando</td>\n",
       "      <td>76</td>\n",
       "      <td>[{'city': 'Munich', 'country_code': 'DEU', 'la...</td>\n",
       "    </tr>\n",
       "    <tr>\n",
       "      <th>15</th>\n",
       "      <td>be2</td>\n",
       "      <td>2</td>\n",
       "      <td>[{'city': 'Munich', 'country_code': 'DEU', 'la...</td>\n",
       "    </tr>\n",
       "  </tbody>\n",
       "</table>\n",
       "</div>"
      ],
      "text/plain": [
       "       name  number_of_employees  \\\n",
       "3   amiando                   76   \n",
       "15      be2                    2   \n",
       "\n",
       "                                              offices  \n",
       "3   [{'city': 'Munich', 'country_code': 'DEU', 'la...  \n",
       "15  [{'city': 'Munich', 'country_code': 'DEU', 'la...  "
      ]
     },
     "execution_count": 17,
     "metadata": {},
     "output_type": "execute_result"
    }
   ],
   "source": [
    "deu= list(c.find({\"$and\": [{\"category_code\": \"web\"}, {\"offices.country_code\": \"DEU\"}, {\"number_of_employees\": {\"$lt\":100}},\n",
    "                      {\"founded_year\": {\"$gt\": 2000}}]}, proj))\n",
    "df3 = pd.DataFrame(deu)\n",
    "df3[\"offices\"] = df3.offices.astype(str)\n",
    "df3 = df3[df3[\"offices\"].str.contains('Munich')]"
   ]
  },
  {
   "cell_type": "markdown",
   "id": "20aeca2b",
   "metadata": {},
   "source": [
    "## Búsqueda de empresas similares en cada ciudad"
   ]
  },
  {
   "cell_type": "markdown",
   "id": "1d41b2f2",
   "metadata": {},
   "source": [
    "Nos damos cuenta de que existen algunas empresas Tech(web) en las ciudades en las que hemos buscado y nos quedamos con la selección de ciudades que hemos realizado. También procedemos a crear un dataframe sucio con algunos de los datos que nos pudiesen llegar a interesar sobre las queries a MongoDB. Concatenamos los datos de las queries obtenidos y creamos un dataframe con aquellas empresar de tamaño mediano (+10 trabajadores) por cada país. \n",
    "    "
   ]
  },
  {
   "cell_type": "code",
   "execution_count": 6,
   "id": "ed4ea556",
   "metadata": {},
   "outputs": [],
   "source": [
    "df_final=pd.concat([df, df2, df3])"
   ]
  },
  {
   "cell_type": "code",
   "execution_count": 7,
   "id": "a70cb145",
   "metadata": {},
   "outputs": [],
   "source": [
    "df_final.drop(df_final[df_final.number_of_employees < 10].index, inplace=True)"
   ]
  },
  {
   "cell_type": "code",
   "execution_count": 8,
   "id": "eb3bccac",
   "metadata": {},
   "outputs": [
    {
     "name": "stderr",
     "output_type": "stream",
     "text": [
      "<ipython-input-8-23573977b66e>:1: FutureWarning: Columnar iteration over characters will be deprecated in future releases.\n",
      "  df_final['city'], df_final['countrycode'],df_final['latitude'],df_final['longitude'],df_final['else']  = df_final['offices'].str.split(',', 4).str\n"
     ]
    }
   ],
   "source": [
    "df_final['city'], df_final['countrycode'],df_final['latitude'],df_final['longitude'],df_final['else']  = df_final['offices'].str.split(',', 4).str"
   ]
  },
  {
   "cell_type": "code",
   "execution_count": 9,
   "id": "cbd5e4da",
   "metadata": {},
   "outputs": [
    {
     "data": {
      "text/html": [
       "<div>\n",
       "<style scoped>\n",
       "    .dataframe tbody tr th:only-of-type {\n",
       "        vertical-align: middle;\n",
       "    }\n",
       "\n",
       "    .dataframe tbody tr th {\n",
       "        vertical-align: top;\n",
       "    }\n",
       "\n",
       "    .dataframe thead th {\n",
       "        text-align: right;\n",
       "    }\n",
       "</style>\n",
       "<table border=\"1\" class=\"dataframe\">\n",
       "  <thead>\n",
       "    <tr style=\"text-align: right;\">\n",
       "      <th></th>\n",
       "      <th>name</th>\n",
       "      <th>number_of_employees</th>\n",
       "      <th>offices</th>\n",
       "      <th>city</th>\n",
       "      <th>countrycode</th>\n",
       "      <th>latitude</th>\n",
       "      <th>longitude</th>\n",
       "      <th>else</th>\n",
       "    </tr>\n",
       "  </thead>\n",
       "  <tbody>\n",
       "    <tr>\n",
       "      <th>0</th>\n",
       "      <td>Netvibes</td>\n",
       "      <td>35</td>\n",
       "      <td>[{'city': 'Paris', 'country_code': 'FRA', 'lat...</td>\n",
       "      <td>[{'city': 'Paris'</td>\n",
       "      <td>'country_code': 'FRA'</td>\n",
       "      <td>'latitude': 48.870806</td>\n",
       "      <td>'longitude': 2.34668}</td>\n",
       "      <td>{'city': 'San Francisco', 'country_code': 'US...</td>\n",
       "    </tr>\n",
       "    <tr>\n",
       "      <th>8</th>\n",
       "      <td>amiando</td>\n",
       "      <td>76</td>\n",
       "      <td>[{'city': 'Munich', 'country_code': 'DEU', 'la...</td>\n",
       "      <td>[{'city': 'Munich'</td>\n",
       "      <td>'country_code': 'DEU'</td>\n",
       "      <td>'latitude': 48.124827</td>\n",
       "      <td>'longitude': 11.556452}</td>\n",
       "      <td>{'city': 'London', 'country_code': 'GBR', 'la...</td>\n",
       "    </tr>\n",
       "    <tr>\n",
       "      <th>13</th>\n",
       "      <td>Zefanclub</td>\n",
       "      <td>15</td>\n",
       "      <td>[{'city': 'Paris', 'country_code': 'FRA', 'lat...</td>\n",
       "      <td>[{'city': 'Paris'</td>\n",
       "      <td>'country_code': 'FRA'</td>\n",
       "      <td>'latitude': 48.868478</td>\n",
       "      <td>'longitude': 2.339843}</td>\n",
       "      <td>{'city': 'Istanbul', 'country_code': 'TUR', '...</td>\n",
       "    </tr>\n",
       "    <tr>\n",
       "      <th>23</th>\n",
       "      <td>Calameo</td>\n",
       "      <td>10</td>\n",
       "      <td>[{'city': 'Paris', 'country_code': 'FRA', 'lat...</td>\n",
       "      <td>[{'city': 'Paris'</td>\n",
       "      <td>'country_code': 'FRA'</td>\n",
       "      <td>'latitude': 48.871174</td>\n",
       "      <td>'longitude': 2.308019}]</td>\n",
       "      <td>NaN</td>\n",
       "    </tr>\n",
       "    <tr>\n",
       "      <th>26</th>\n",
       "      <td>Stupeflix</td>\n",
       "      <td>15</td>\n",
       "      <td>[{'city': 'Paris', 'country_code': 'FRA', 'lat...</td>\n",
       "      <td>[{'city': 'Paris'</td>\n",
       "      <td>'country_code': 'FRA'</td>\n",
       "      <td>'latitude': 48.8785618</td>\n",
       "      <td>'longitude': 2.3603689}</td>\n",
       "      <td>{'city': 'San Francisco', 'country_code': 'US...</td>\n",
       "    </tr>\n",
       "    <tr>\n",
       "      <th>32</th>\n",
       "      <td>Webedia</td>\n",
       "      <td>50</td>\n",
       "      <td>[{'city': 'Paris', 'country_code': 'FRA', 'lat...</td>\n",
       "      <td>[{'city': 'Paris'</td>\n",
       "      <td>'country_code': 'FRA'</td>\n",
       "      <td>'latitude': 48.856614</td>\n",
       "      <td>'longitude': 2.3522219}]</td>\n",
       "      <td>NaN</td>\n",
       "    </tr>\n",
       "    <tr>\n",
       "      <th>33</th>\n",
       "      <td>Webzzle</td>\n",
       "      <td>10</td>\n",
       "      <td>[{'city': 'Palo Alto', 'country_code': 'USA', ...</td>\n",
       "      <td>[{'city': 'Palo Alto'</td>\n",
       "      <td>'country_code': 'USA'</td>\n",
       "      <td>'latitude': 37.4417</td>\n",
       "      <td>'longitude': -122.1417}</td>\n",
       "      <td>{'city': 'Paris', 'country_code': 'FRA', 'lat...</td>\n",
       "    </tr>\n",
       "    <tr>\n",
       "      <th>42</th>\n",
       "      <td>Ykone</td>\n",
       "      <td>10</td>\n",
       "      <td>[{'city': 'Paris', 'country_code': 'FRA', 'lat...</td>\n",
       "      <td>[{'city': 'Paris'</td>\n",
       "      <td>'country_code': 'FRA'</td>\n",
       "      <td>'latitude': 48.8566667</td>\n",
       "      <td>'longitude': 2.3509871}]</td>\n",
       "      <td>NaN</td>\n",
       "    </tr>\n",
       "    <tr>\n",
       "      <th>0</th>\n",
       "      <td>Splendia</td>\n",
       "      <td>70</td>\n",
       "      <td>[{'city': 'Barcelona', 'country_code': 'ESP', ...</td>\n",
       "      <td>[{'city': 'Barcelona'</td>\n",
       "      <td>'country_code': 'ESP'</td>\n",
       "      <td>'latitude': None</td>\n",
       "      <td>'longitude': None}]</td>\n",
       "      <td>NaN</td>\n",
       "    </tr>\n",
       "    <tr>\n",
       "      <th>23</th>\n",
       "      <td>Teambox</td>\n",
       "      <td>35</td>\n",
       "      <td>[{'city': 'Barcelona', 'country_code': 'ESP', ...</td>\n",
       "      <td>[{'city': 'Barcelona'</td>\n",
       "      <td>'country_code': 'ESP'</td>\n",
       "      <td>'latitude': 41.4063346</td>\n",
       "      <td>'longitude': 2.1920231}</td>\n",
       "      <td>{'city': 'Redwood City', 'country_code': 'USA...</td>\n",
       "    </tr>\n",
       "    <tr>\n",
       "      <th>3</th>\n",
       "      <td>amiando</td>\n",
       "      <td>76</td>\n",
       "      <td>[{'city': 'Munich', 'country_code': 'DEU', 'la...</td>\n",
       "      <td>[{'city': 'Munich'</td>\n",
       "      <td>'country_code': 'DEU'</td>\n",
       "      <td>'latitude': 48.124827</td>\n",
       "      <td>'longitude': 11.556452}</td>\n",
       "      <td>{'city': 'London', 'country_code': 'GBR', 'la...</td>\n",
       "    </tr>\n",
       "  </tbody>\n",
       "</table>\n",
       "</div>"
      ],
      "text/plain": [
       "         name  number_of_employees  \\\n",
       "0    Netvibes                   35   \n",
       "8     amiando                   76   \n",
       "13  Zefanclub                   15   \n",
       "23    Calameo                   10   \n",
       "26  Stupeflix                   15   \n",
       "32    Webedia                   50   \n",
       "33    Webzzle                   10   \n",
       "42      Ykone                   10   \n",
       "0    Splendia                   70   \n",
       "23    Teambox                   35   \n",
       "3     amiando                   76   \n",
       "\n",
       "                                              offices                   city  \\\n",
       "0   [{'city': 'Paris', 'country_code': 'FRA', 'lat...      [{'city': 'Paris'   \n",
       "8   [{'city': 'Munich', 'country_code': 'DEU', 'la...     [{'city': 'Munich'   \n",
       "13  [{'city': 'Paris', 'country_code': 'FRA', 'lat...      [{'city': 'Paris'   \n",
       "23  [{'city': 'Paris', 'country_code': 'FRA', 'lat...      [{'city': 'Paris'   \n",
       "26  [{'city': 'Paris', 'country_code': 'FRA', 'lat...      [{'city': 'Paris'   \n",
       "32  [{'city': 'Paris', 'country_code': 'FRA', 'lat...      [{'city': 'Paris'   \n",
       "33  [{'city': 'Palo Alto', 'country_code': 'USA', ...  [{'city': 'Palo Alto'   \n",
       "42  [{'city': 'Paris', 'country_code': 'FRA', 'lat...      [{'city': 'Paris'   \n",
       "0   [{'city': 'Barcelona', 'country_code': 'ESP', ...  [{'city': 'Barcelona'   \n",
       "23  [{'city': 'Barcelona', 'country_code': 'ESP', ...  [{'city': 'Barcelona'   \n",
       "3   [{'city': 'Munich', 'country_code': 'DEU', 'la...     [{'city': 'Munich'   \n",
       "\n",
       "               countrycode                 latitude  \\\n",
       "0    'country_code': 'FRA'    'latitude': 48.870806   \n",
       "8    'country_code': 'DEU'    'latitude': 48.124827   \n",
       "13   'country_code': 'FRA'    'latitude': 48.868478   \n",
       "23   'country_code': 'FRA'    'latitude': 48.871174   \n",
       "26   'country_code': 'FRA'   'latitude': 48.8785618   \n",
       "32   'country_code': 'FRA'    'latitude': 48.856614   \n",
       "33   'country_code': 'USA'      'latitude': 37.4417   \n",
       "42   'country_code': 'FRA'   'latitude': 48.8566667   \n",
       "0    'country_code': 'ESP'         'latitude': None   \n",
       "23   'country_code': 'ESP'   'latitude': 41.4063346   \n",
       "3    'country_code': 'DEU'    'latitude': 48.124827   \n",
       "\n",
       "                    longitude  \\\n",
       "0       'longitude': 2.34668}   \n",
       "8     'longitude': 11.556452}   \n",
       "13     'longitude': 2.339843}   \n",
       "23    'longitude': 2.308019}]   \n",
       "26    'longitude': 2.3603689}   \n",
       "32   'longitude': 2.3522219}]   \n",
       "33    'longitude': -122.1417}   \n",
       "42   'longitude': 2.3509871}]   \n",
       "0         'longitude': None}]   \n",
       "23    'longitude': 2.1920231}   \n",
       "3     'longitude': 11.556452}   \n",
       "\n",
       "                                                 else  \n",
       "0    {'city': 'San Francisco', 'country_code': 'US...  \n",
       "8    {'city': 'London', 'country_code': 'GBR', 'la...  \n",
       "13   {'city': 'Istanbul', 'country_code': 'TUR', '...  \n",
       "23                                                NaN  \n",
       "26   {'city': 'San Francisco', 'country_code': 'US...  \n",
       "32                                                NaN  \n",
       "33   {'city': 'Paris', 'country_code': 'FRA', 'lat...  \n",
       "42                                                NaN  \n",
       "0                                                 NaN  \n",
       "23   {'city': 'Redwood City', 'country_code': 'USA...  \n",
       "3    {'city': 'London', 'country_code': 'GBR', 'la...  "
      ]
     },
     "execution_count": 9,
     "metadata": {},
     "output_type": "execute_result"
    }
   ],
   "source": [
    "df_final"
   ]
  }
 ],
 "metadata": {
  "kernelspec": {
   "display_name": "ironhack",
   "language": "python",
   "name": "ironhack"
  },
  "language_info": {
   "codemirror_mode": {
    "name": "ipython",
    "version": 3
   },
   "file_extension": ".py",
   "mimetype": "text/x-python",
   "name": "python",
   "nbconvert_exporter": "python",
   "pygments_lexer": "ipython3",
   "version": "3.8.5"
  }
 },
 "nbformat": 4,
 "nbformat_minor": 5
}
