{
 "cells": [
  {
   "cell_type": "code",
   "execution_count": 1,
   "id": "a42d9ade",
   "metadata": {},
   "outputs": [
    {
     "data": {
      "text/plain": [
       "True"
      ]
     },
     "execution_count": 1,
     "metadata": {},
     "output_type": "execute_result"
    }
   ],
   "source": [
    "import requests\n",
    "import json\n",
    "import os\n",
    "import pandas as pd\n",
    "import src.apis as sr\n",
    "from functools import reduce\n",
    "import operator\n",
    "from pandas import json_normalize\n",
    "from dotenv import load_dotenv\n",
    "load_dotenv()"
   ]
  },
  {
   "cell_type": "markdown",
   "id": "be2650d8",
   "metadata": {},
   "source": [
    "For this part of the project we will consider the following conditions as important for the satisfaction of the staff:\n",
    "- 30% of the company staff have at least 1 child. In this section we will only consider kindergartens as a priority. The process could be repeated with older schools.  \n",
    "- Executives like Starbucks A LOT.\n",
    "- The CEO is vegan.\n",
    "- To make the maintenance guy happy, a basketball stadium must be around 10 Km. Put some respect on maintenance staff. \n",
    "\n",
    "We discard: \n",
    "- Everyone in the company is between 25 and 40, give them some place to go party. There is always a good place to go party in big-size cities.\n",
    "- The office dog—\"Dobby\" needs a hairdresser every month. Ensure there's one not too far away. In big cities there is alway a dog hairdresser. "
   ]
  },
  {
   "cell_type": "markdown",
   "id": "c31979df",
   "metadata": {},
   "source": [
    "# Starbucks\n",
    "\n",
    "## Barcelona "
   ]
  },
  {
   "cell_type": "markdown",
   "id": "b4d260a9",
   "metadata": {},
   "source": [
    "First we extract the central location of Barcelona by using the Geocode API."
   ]
  },
  {
   "cell_type": "code",
   "execution_count": 2,
   "id": "b654ef18",
   "metadata": {},
   "outputs": [
    {
     "data": {
      "text/plain": [
       "{'type': 'Point', 'coordinates': [2.15379, 41.40359]}"
      ]
     },
     "execution_count": 2,
     "metadata": {},
     "output_type": "execute_result"
    }
   ],
   "source": [
    "sr.geocode(\"barcelona\")"
   ]
  },
  {
   "cell_type": "markdown",
   "id": "c79acd96",
   "metadata": {},
   "source": [
    "We assign the coordinates to a variable. "
   ]
  },
  {
   "cell_type": "code",
   "execution_count": 3,
   "id": "4937763e",
   "metadata": {},
   "outputs": [],
   "source": [
    "barna={'type': 'Point', 'coordinates': [2.15379, 41.40359]}"
   ]
  },
  {
   "cell_type": "markdown",
   "id": "a2eb827e",
   "metadata": {},
   "source": [
    "We make Foursquare API call with 10km radius from the central coordinates we have and given that we want to locate 'close' to the city center (assuming that most of the city's economic traffic is near the city center)."
   ]
  },
  {
   "cell_type": "code",
   "execution_count": 4,
   "id": "79eedb6e",
   "metadata": {},
   "outputs": [],
   "source": [
    "barna_st=sr.data(barna.get('coordinates')[1],barna.get('coordinates')[0],\"Starbucks\")\n",
    "data = barna_st.get(\"response\")\n",
    "ccode = data.get(\"groups\")[0]\n",
    "ccode_f= ccode.get(\"items\")"
   ]
  },
  {
   "cell_type": "markdown",
   "id": "87e17571",
   "metadata": {},
   "source": [
    "After having extracted the information we were interested in from the json obtained after the application of the data function, we proceed to create a Dataframe in which we add a new category column to better distinguish in the future between the type of search performed in every city."
   ]
  },
  {
   "cell_type": "code",
   "execution_count": 5,
   "id": "ac848a74",
   "metadata": {},
   "outputs": [],
   "source": [
    "dfb_st=sr.create_dataframe(ccode_f)\n",
    "dfb_st[\"category\"] = \"Starbucks\"\n"
   ]
  },
  {
   "cell_type": "markdown",
   "id": "2546872b",
   "metadata": {},
   "source": [
    "## Munich"
   ]
  },
  {
   "cell_type": "code",
   "execution_count": 6,
   "id": "da50a204",
   "metadata": {},
   "outputs": [
    {
     "data": {
      "text/plain": [
       "{'type': 'Point', 'coordinates': [11.6366, 48.1408]}"
      ]
     },
     "execution_count": 6,
     "metadata": {},
     "output_type": "execute_result"
    }
   ],
   "source": [
    "sr.geocode(\"munich\")"
   ]
  },
  {
   "cell_type": "code",
   "execution_count": 7,
   "id": "3b92b68a",
   "metadata": {},
   "outputs": [],
   "source": [
    "munich={'type': 'Point', 'coordinates': [11.6366, 48.1408]}"
   ]
  },
  {
   "cell_type": "code",
   "execution_count": 8,
   "id": "b592dcba",
   "metadata": {},
   "outputs": [],
   "source": [
    "munich_st=sr.data(munich.get('coordinates')[1],munich.get('coordinates')[0],\"Starbucks\")\n",
    "data = munich_st.get(\"response\")\n",
    "ccode = data.get(\"groups\")[0]\n",
    "ccode_f= ccode.get(\"items\")\n",
    "dfm_st=sr.create_dataframe(ccode_f)\n",
    "dfm_st[\"category\"] = \"Starbucks\""
   ]
  },
  {
   "cell_type": "markdown",
   "id": "a0385daf",
   "metadata": {},
   "source": [
    "## Paris"
   ]
  },
  {
   "cell_type": "code",
   "execution_count": 9,
   "id": "a7b959d8",
   "metadata": {},
   "outputs": [],
   "source": [
    "paris=sr.geocode(\"paris\")\n"
   ]
  },
  {
   "cell_type": "code",
   "execution_count": 10,
   "id": "cda275d4",
   "metadata": {},
   "outputs": [],
   "source": [
    "paris={'type': 'Point', 'coordinates': [2.3428, 48.85756]}"
   ]
  },
  {
   "cell_type": "code",
   "execution_count": 12,
   "id": "d58182b2",
   "metadata": {},
   "outputs": [],
   "source": [
    "paris_st=sr.data(paris.get('coordinates')[1],paris.get('coordinates')[0],\"Starbucks\")\n",
    "data = paris_st.get(\"response\")\n",
    "ccode = data.get(\"groups\")[0]\n",
    "ccode_f= ccode.get(\"items\")\n",
    "dfp_st=sr.create_dataframe(ccode_f)\n",
    "dfp_st[\"category\"] = \"Starbucks\""
   ]
  },
  {
   "cell_type": "markdown",
   "id": "4f41162f",
   "metadata": {},
   "source": [
    "Existen 44 starbucks en un radio de 10 km a contar desde el centro de Paris. Hacemos lo propio y convertimos sus localizaciones en un DataFrame."
   ]
  },
  {
   "cell_type": "markdown",
   "id": "86eb0c4a",
   "metadata": {},
   "source": [
    "# Basketball Stadium"
   ]
  },
  {
   "cell_type": "markdown",
   "id": "406c15db",
   "metadata": {},
   "source": [
    "We repeat the process with the basketball stadium, for this we will change the query parameter for the request to the foursquare API. "
   ]
  },
  {
   "cell_type": "markdown",
   "id": "780120a3",
   "metadata": {},
   "source": [
    "## Munich"
   ]
  },
  {
   "cell_type": "code",
   "execution_count": 13,
   "id": "510ec71c",
   "metadata": {},
   "outputs": [],
   "source": [
    "munich_bs=sr.data(munich.get('coordinates')[1],munich.get('coordinates')[0],\"Basketball Stadium\")\n",
    "data = munich_bs.get(\"response\")\n",
    "ccode = data.get(\"groups\")[0]\n",
    "ccode_f= ccode.get(\"items\")\n",
    "dfm_bs=sr.create_dataframe(ccode_f)\n",
    "dfm_bs[\"category\"] = \"Basketball_Stadium\""
   ]
  },
  {
   "cell_type": "markdown",
   "id": "a926208c",
   "metadata": {},
   "source": [
    "## Barcelona"
   ]
  },
  {
   "cell_type": "code",
   "execution_count": 14,
   "id": "65f86ae2",
   "metadata": {},
   "outputs": [],
   "source": [
    "barna_bs=sr.data(barna.get('coordinates')[1],barna.get('coordinates')[0],\"Basketball Stadium\")\n",
    "data = barna_bs.get(\"response\")\n",
    "ccode = data.get(\"groups\")[0]\n",
    "ccode_f= ccode.get(\"items\")\n",
    "dfb_bs=sr.create_dataframe(ccode_f)\n",
    "dfb_bs[\"category\"] = \"Basketball_Stadium\""
   ]
  },
  {
   "cell_type": "markdown",
   "id": "01891ad9",
   "metadata": {},
   "source": [
    "## Paris"
   ]
  },
  {
   "cell_type": "code",
   "execution_count": 15,
   "id": "b09cef77",
   "metadata": {},
   "outputs": [],
   "source": [
    "paris_bs=sr.data(paris.get('coordinates')[1],paris.get('coordinates')[0],\"Basketball Stadium\")\n",
    "data = paris_bs.get(\"response\")\n",
    "ccode = data.get(\"groups\")[0]\n",
    "ccode_f= ccode.get(\"items\")\n",
    "dfp_bs=sr.create_dataframe(ccode_f)\n",
    "dfp_bs[\"category\"] = \"Basketball_Stadium\""
   ]
  },
  {
   "cell_type": "markdown",
   "id": "aa1a00b2",
   "metadata": {},
   "source": [
    "# Preschool"
   ]
  },
  {
   "cell_type": "markdown",
   "id": "c2157825",
   "metadata": {},
   "source": [
    "## Munich"
   ]
  },
  {
   "cell_type": "code",
   "execution_count": 16,
   "id": "c8b4b253",
   "metadata": {},
   "outputs": [],
   "source": [
    "munich_ps=sr.data(munich.get('coordinates')[1],munich.get('coordinates')[0],\"Preschool\")\n",
    "data = munich_ps.get(\"response\")\n",
    "ccode = data.get(\"groups\")[0]\n",
    "ccode_f= ccode.get(\"items\")\n",
    "dfm_ps=sr.create_dataframe(ccode_f)\n",
    "dfm_ps[\"category\"] = \"Preschool\""
   ]
  },
  {
   "cell_type": "markdown",
   "id": "e98347fe",
   "metadata": {},
   "source": [
    "## Paris"
   ]
  },
  {
   "cell_type": "code",
   "execution_count": 17,
   "id": "24e7e658",
   "metadata": {},
   "outputs": [],
   "source": [
    "paris_ps=sr.data(paris.get('coordinates')[1],paris.get('coordinates')[0],\"Preschool\")\n",
    "data = paris_ps.get(\"response\")\n",
    "ccode = data.get(\"groups\")[0]\n",
    "ccode_f= ccode.get(\"items\")\n",
    "dfp_ps=sr.create_dataframe(ccode_f)\n",
    "dfp_ps[\"category\"] = \"Preschool\""
   ]
  },
  {
   "cell_type": "markdown",
   "id": "352999da",
   "metadata": {},
   "source": [
    "## Barcelona"
   ]
  },
  {
   "cell_type": "code",
   "execution_count": 18,
   "id": "7f24a7e0",
   "metadata": {},
   "outputs": [],
   "source": [
    "barna_ps=sr.data(barna.get('coordinates')[1],barna.get('coordinates')[0],\"Preschool\")\n",
    "data = barna_ps.get(\"response\")\n",
    "ccode = data.get(\"groups\")[0]\n",
    "ccode_f= ccode.get(\"items\")\n",
    "dfb_ps=sr.create_dataframe(ccode_f)\n",
    "dfb_ps[\"category\"] = \"Preschool\""
   ]
  },
  {
   "cell_type": "markdown",
   "id": "b96fa924",
   "metadata": {},
   "source": [
    "# Vegetarian / Vegan Restaurant"
   ]
  },
  {
   "cell_type": "markdown",
   "id": "29c52026",
   "metadata": {},
   "source": [
    "## Munich"
   ]
  },
  {
   "cell_type": "code",
   "execution_count": 19,
   "id": "79afd673",
   "metadata": {},
   "outputs": [],
   "source": [
    "munich_vs=sr.data(munich.get('coordinates')[1],munich.get('coordinates')[0],\"Vegan Restaurant\")\n",
    "data = munich_vs.get(\"response\")\n",
    "ccode = data.get(\"groups\")[0]\n",
    "ccode_f= ccode.get(\"items\")\n",
    "dfm_vs=sr.create_dataframe(ccode_f)\n",
    "dfm_vs[\"category\"] = \"Vegan_Restaurant\""
   ]
  },
  {
   "cell_type": "markdown",
   "id": "2f1428ad",
   "metadata": {},
   "source": [
    "## Paris"
   ]
  },
  {
   "cell_type": "code",
   "execution_count": 20,
   "id": "9267efcc",
   "metadata": {},
   "outputs": [],
   "source": [
    "paris_vs=sr.data(paris.get('coordinates')[1],paris.get('coordinates')[0],\"Vegan Restaurant\")\n",
    "data = paris_vs.get(\"response\")\n",
    "ccode = data.get(\"groups\")[0]\n",
    "ccode_f= ccode.get(\"items\")\n",
    "dfp_vs=sr.create_dataframe(ccode_f)\n",
    "dfp_vs[\"category\"] = \"Vegan_Restaurant\""
   ]
  },
  {
   "cell_type": "markdown",
   "id": "df19420b",
   "metadata": {},
   "source": [
    "## Barcelona"
   ]
  },
  {
   "cell_type": "code",
   "execution_count": 21,
   "id": "70ba42cd",
   "metadata": {},
   "outputs": [],
   "source": [
    "barna_vs=sr.data(barna.get('coordinates')[1],barna.get('coordinates')[0],\"Vegan Restaurant\")\n",
    "data = barna_ps.get(\"response\")\n",
    "ccode = data.get(\"groups\")[0]\n",
    "ccode_f= ccode.get(\"items\")\n",
    "dfb_vs=sr.create_dataframe(ccode_f)\n",
    "dfb_vs[\"category\"] = \"Vegan_Restaurant\""
   ]
  },
  {
   "cell_type": "markdown",
   "id": "e5734245",
   "metadata": {},
   "source": [
    "# Final Dataframe per city"
   ]
  },
  {
   "cell_type": "markdown",
   "id": "7cc7b026",
   "metadata": {},
   "source": [
    "We use pd.concat to create a big dataframe with every Point obtained per city and we save the DataFrames under a csv format.  "
   ]
  },
  {
   "cell_type": "code",
   "execution_count": 22,
   "id": "c6f75b20",
   "metadata": {},
   "outputs": [],
   "source": [
    "dfbarna=pd.concat([dfb_st,dfb_bs,dfb_ps,dfb_vs])\n",
    "dfmunich=pd.concat([dfm_st,dfm_bs,dfm_ps,dfm_vs])\n",
    "dfparis=pd.concat([dfm_st,dfm_bs,dfm_ps,dfm_vs])"
   ]
  },
  {
   "cell_type": "code",
   "execution_count": 26,
   "id": "4979a9f6",
   "metadata": {},
   "outputs": [],
   "source": [
    "dfbarna.to_csv(r'/Users/luissanchezdeleon/ironhack/Proyecto3-/Input/dfbarna.csv', index = False)\n",
    "dfmunich.to_csv(r'/Users/luissanchezdeleon/ironhack/Proyecto3-/Input/dfmunich.csv', index = False)\n",
    "dfparis.to_csv(r'/Users/luissanchezdeleon/ironhack/Proyecto3-/Input/dfparis.csv', index = False)"
   ]
  }
 ],
 "metadata": {
  "kernelspec": {
   "display_name": "ironhack",
   "language": "python",
   "name": "ironhack"
  },
  "language_info": {
   "codemirror_mode": {
    "name": "ipython",
    "version": 3
   },
   "file_extension": ".py",
   "mimetype": "text/x-python",
   "name": "python",
   "nbconvert_exporter": "python",
   "pygments_lexer": "ipython3",
   "version": "3.8.5"
  }
 },
 "nbformat": 4,
 "nbformat_minor": 5
}
